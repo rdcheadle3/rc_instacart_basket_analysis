{
 "cells": [
  {
   "cell_type": "markdown",
   "id": "4e0dd4c4",
   "metadata": {
    "toc": true
   },
   "source": [
    "<h1>Table of Contents<span class=\"tocSkip\"></span></h1>\n",
    "<div class=\"toc\"><ul class=\"toc-item\"><li><span><a href=\"#Importing-Libraries-and-Python-Data-Types\" data-toc-modified-id=\"Importing-Libraries-and-Python-Data-Types-1\">Importing Libraries and Python Data Types</a></span><ul class=\"toc-item\"><li><span><a href=\"#01.-Importing-libraries\" data-toc-modified-id=\"01.-Importing-libraries-1.1\">01. Importing libraries</a></span></li><li><span><a href=\"#02.-Data-types\" data-toc-modified-id=\"02.-Data-types-1.2\">02. Data types</a></span></li></ul></li></ul></div>"
   ]
  },
  {
   "cell_type": "markdown",
   "id": "334d3209",
   "metadata": {},
   "source": [
    "# Importing Libraries and Python Data Types"
   ]
  },
  {
   "cell_type": "markdown",
   "id": "46d82366",
   "metadata": {},
   "source": [
    "## 01. Importing libraries"
   ]
  },
  {
   "cell_type": "code",
   "execution_count": 1,
   "id": "e30ab33a",
   "metadata": {},
   "outputs": [],
   "source": [
    "# Question 5\n",
    "# Import Libraries\n",
    "import pandas as pd\n",
    "import numpy as np\n",
    "import os"
   ]
  },
  {
   "cell_type": "markdown",
   "id": "2a6a26d9",
   "metadata": {},
   "source": [
    "## 02. Data types"
   ]
  },
  {
   "cell_type": "code",
   "execution_count": 2,
   "id": "903107e3",
   "metadata": {},
   "outputs": [],
   "source": [
    "x = 50"
   ]
  },
  {
   "cell_type": "code",
   "execution_count": 3,
   "id": "33fcd0da",
   "metadata": {},
   "outputs": [
    {
     "data": {
      "text/plain": [
       "100"
      ]
     },
     "execution_count": 3,
     "metadata": {},
     "output_type": "execute_result"
    }
   ],
   "source": [
    "# Question 7a\n",
    "x + x"
   ]
  },
  {
   "cell_type": "code",
   "execution_count": 4,
   "id": "6a6d1d34",
   "metadata": {},
   "outputs": [],
   "source": [
    "x = 75"
   ]
  },
  {
   "cell_type": "code",
   "execution_count": 5,
   "id": "12900345",
   "metadata": {},
   "outputs": [],
   "source": [
    "y = 25"
   ]
  },
  {
   "cell_type": "code",
   "execution_count": 6,
   "id": "f4494c38",
   "metadata": {},
   "outputs": [
    {
     "data": {
      "text/plain": [
       "100"
      ]
     },
     "execution_count": 6,
     "metadata": {},
     "output_type": "execute_result"
    }
   ],
   "source": [
    "# Question 7b\n",
    "x + y"
   ]
  },
  {
   "cell_type": "code",
   "execution_count": 7,
   "id": "477ec4c5",
   "metadata": {},
   "outputs": [],
   "source": [
    "x = 200"
   ]
  },
  {
   "cell_type": "code",
   "execution_count": 8,
   "id": "b36990d2",
   "metadata": {},
   "outputs": [],
   "source": [
    "y = 25"
   ]
  },
  {
   "cell_type": "code",
   "execution_count": 9,
   "id": "3584a6d2",
   "metadata": {},
   "outputs": [],
   "source": [
    "z = 75"
   ]
  },
  {
   "cell_type": "code",
   "execution_count": 10,
   "id": "9514db72",
   "metadata": {},
   "outputs": [
    {
     "data": {
      "text/plain": [
       "100"
      ]
     },
     "execution_count": 10,
     "metadata": {},
     "output_type": "execute_result"
    }
   ],
   "source": [
    "# Question 7c\n",
    "x - y - z"
   ]
  },
  {
   "cell_type": "code",
   "execution_count": 11,
   "id": "33ee8fb0",
   "metadata": {},
   "outputs": [],
   "source": [
    "a = 5.75"
   ]
  },
  {
   "cell_type": "code",
   "execution_count": 12,
   "id": "01e7bff0",
   "metadata": {},
   "outputs": [],
   "source": [
    "b = 3.225"
   ]
  },
  {
   "cell_type": "code",
   "execution_count": 13,
   "id": "4f15fd74",
   "metadata": {},
   "outputs": [
    {
     "data": {
      "text/plain": [
       "1.7829457364341086"
      ]
     },
     "execution_count": 13,
     "metadata": {},
     "output_type": "execute_result"
    }
   ],
   "source": [
    "# Question 8a\n",
    "a / b"
   ]
  },
  {
   "cell_type": "code",
   "execution_count": 14,
   "id": "5af3aeee",
   "metadata": {},
   "outputs": [
    {
     "data": {
      "text/plain": [
       "0.5608695652173913"
      ]
     },
     "execution_count": 14,
     "metadata": {},
     "output_type": "execute_result"
    }
   ],
   "source": [
    "# Question 8b\n",
    "b / a"
   ]
  },
  {
   "cell_type": "code",
   "execution_count": 15,
   "id": "edb25c13",
   "metadata": {},
   "outputs": [],
   "source": [
    "c = 'base'"
   ]
  },
  {
   "cell_type": "code",
   "execution_count": 16,
   "id": "ad3826e8",
   "metadata": {},
   "outputs": [],
   "source": [
    "d = 'ball'"
   ]
  },
  {
   "cell_type": "code",
   "execution_count": 31,
   "id": "5f05f29d",
   "metadata": {},
   "outputs": [
    {
     "data": {
      "text/plain": [
       "'baseball'"
      ]
     },
     "execution_count": 31,
     "metadata": {},
     "output_type": "execute_result"
    }
   ],
   "source": [
    "# Question 9\n",
    "c + d"
   ]
  },
  {
   "cell_type": "code",
   "execution_count": 19,
   "id": "820c09e4",
   "metadata": {},
   "outputs": [],
   "source": [
    "e = 'I Like '"
   ]
  },
  {
   "cell_type": "code",
   "execution_count": 20,
   "id": "86db864f",
   "metadata": {},
   "outputs": [],
   "source": [
    "f = 'to eat '"
   ]
  },
  {
   "cell_type": "code",
   "execution_count": 21,
   "id": "9ae722af",
   "metadata": {},
   "outputs": [],
   "source": [
    "g = 'tacos.'"
   ]
  },
  {
   "cell_type": "code",
   "execution_count": 22,
   "id": "8b52aee5",
   "metadata": {},
   "outputs": [
    {
     "data": {
      "text/plain": [
       "'I Like to eat tacos.'"
      ]
     },
     "execution_count": 22,
     "metadata": {},
     "output_type": "execute_result"
    }
   ],
   "source": [
    "# Question 10a\n",
    "e + f + g"
   ]
  },
  {
   "cell_type": "code",
   "execution_count": 23,
   "id": "f7b7b49e",
   "metadata": {},
   "outputs": [],
   "source": [
    "h = 'Would you '"
   ]
  },
  {
   "cell_type": "code",
   "execution_count": 24,
   "id": "b2e28635",
   "metadata": {},
   "outputs": [],
   "source": [
    "i = 'like to go '"
   ]
  },
  {
   "cell_type": "code",
   "execution_count": 26,
   "id": "b5ebad95",
   "metadata": {},
   "outputs": [],
   "source": [
    "j = 'to the movies?'"
   ]
  },
  {
   "cell_type": "code",
   "execution_count": 30,
   "id": "62881233",
   "metadata": {},
   "outputs": [
    {
     "data": {
      "text/plain": [
       "'Would you like to go to the movies?'"
      ]
     },
     "execution_count": 30,
     "metadata": {},
     "output_type": "execute_result"
    }
   ],
   "source": [
    "# Question 10b\n",
    "h + i + j"
   ]
  },
  {
   "cell_type": "code",
   "execution_count": 28,
   "id": "75842d5e",
   "metadata": {},
   "outputs": [],
   "source": [
    "# Bonus Question\n",
    "n = 'Hello'"
   ]
  },
  {
   "cell_type": "code",
   "execution_count": 29,
   "id": "be3f3b99",
   "metadata": {},
   "outputs": [
    {
     "data": {
      "text/plain": [
       "'HelloHelloHelloHelloHelloHelloHelloHelloHelloHelloHelloHelloHelloHelloHelloHelloHelloHelloHelloHelloHelloHelloHelloHelloHelloHelloHelloHelloHelloHelloHelloHelloHelloHelloHelloHelloHelloHelloHelloHelloHelloHelloHelloHelloHelloHelloHelloHelloHelloHelloHelloHelloHelloHelloHelloHelloHelloHelloHelloHelloHelloHelloHelloHelloHelloHelloHelloHelloHelloHelloHelloHelloHelloHelloHelloHelloHelloHelloHelloHelloHelloHelloHelloHelloHelloHelloHelloHelloHelloHelloHelloHelloHelloHelloHelloHelloHelloHelloHelloHello'"
      ]
     },
     "execution_count": 29,
     "metadata": {},
     "output_type": "execute_result"
    }
   ],
   "source": [
    "n * 100"
   ]
  },
  {
   "cell_type": "code",
   "execution_count": null,
   "id": "03871d31",
   "metadata": {},
   "outputs": [],
   "source": []
  }
 ],
 "metadata": {
  "kernelspec": {
   "display_name": "Python 3 (ipykernel)",
   "language": "python",
   "name": "python3"
  },
  "language_info": {
   "codemirror_mode": {
    "name": "ipython",
    "version": 3
   },
   "file_extension": ".py",
   "mimetype": "text/x-python",
   "name": "python",
   "nbconvert_exporter": "python",
   "pygments_lexer": "ipython3",
   "version": "3.9.13"
  },
  "toc": {
   "base_numbering": 1,
   "nav_menu": {},
   "number_sections": false,
   "sideBar": true,
   "skip_h1_title": false,
   "title_cell": "Table of Contents",
   "title_sidebar": "Contents",
   "toc_cell": true,
   "toc_position": {
    "height": "calc(100% - 180px)",
    "left": "10px",
    "top": "150px",
    "width": "384px"
   },
   "toc_section_display": true,
   "toc_window_display": true
  }
 },
 "nbformat": 4,
 "nbformat_minor": 5
}
