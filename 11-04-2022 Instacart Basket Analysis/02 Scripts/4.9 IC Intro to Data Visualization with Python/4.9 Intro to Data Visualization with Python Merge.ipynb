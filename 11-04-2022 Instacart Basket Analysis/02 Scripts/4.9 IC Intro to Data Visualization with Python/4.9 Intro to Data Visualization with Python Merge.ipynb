{
 "cells": [
  {
   "cell_type": "markdown",
   "id": "f1092e68",
   "metadata": {
    "toc": true
   },
   "source": [
    "<h1>Table of Contents<span class=\"tocSkip\"></span></h1>\n",
    "<div class=\"toc\"><ul class=\"toc-item\"><li><span><a href=\"#Intro-to-Data-Visualization-with-Python-Merge\" data-toc-modified-id=\"Intro-to-Data-Visualization-with-Python-Merge-1\">Intro to Data Visualization with Python Merge</a></span><ul class=\"toc-item\"><li><span><a href=\"#01-Import-libraries\" data-toc-modified-id=\"01-Import-libraries-1.1\">01 Import libraries</a></span></li><li><span><a href=\"#02-Create-path\" data-toc-modified-id=\"02-Create-path-1.2\">02 Create path</a></span></li><li><span><a href=\"#03-Import-data\" data-toc-modified-id=\"03-Import-data-1.3\">03 Import data</a></span></li><li><span><a href=\"#04-Merge-sample-of-orders_products_merged-dataset-with-customers-dataset\" data-toc-modified-id=\"04-Merge-sample-of-orders_products_merged-dataset-with-customers-dataset-1.4\">04 Merge sample of orders_products_merged dataset with customers dataset</a></span></li></ul></li></ul></div>"
   ]
  },
  {
   "cell_type": "markdown",
   "id": "c37b1f06",
   "metadata": {},
   "source": [
    "# Intro to Data Visualization with Python Merge"
   ]
  },
  {
   "cell_type": "markdown",
   "id": "058ce452",
   "metadata": {},
   "source": [
    "## 01 Import libraries"
   ]
  },
  {
   "cell_type": "code",
   "execution_count": 2,
   "id": "b99e1ffb",
   "metadata": {},
   "outputs": [],
   "source": [
    "import pandas as pd\n",
    "import numpy as np\n",
    "import os"
   ]
  },
  {
   "cell_type": "markdown",
   "id": "a7db0ace",
   "metadata": {},
   "source": [
    "## 02 Create path"
   ]
  },
  {
   "cell_type": "code",
   "execution_count": 3,
   "id": "aa8fa034",
   "metadata": {},
   "outputs": [],
   "source": [
    "path = r'C:\\Users\\rober_fjs0dbr\\OneDrive\\Documents\\CF Coursework\\Python Fundamentals for Data Analysts\\11-04-2022 Instacart Basket Analysis'\n"
   ]
  },
  {
   "cell_type": "code",
   "execution_count": 4,
   "id": "fa4da9b9",
   "metadata": {},
   "outputs": [
    {
     "data": {
      "text/plain": [
       "'C:\\\\Users\\\\rober_fjs0dbr\\\\OneDrive\\\\Documents\\\\CF Coursework\\\\Python Fundamentals for Data Analysts\\\\11-04-2022 Instacart Basket Analysis'"
      ]
     },
     "execution_count": 4,
     "metadata": {},
     "output_type": "execute_result"
    }
   ],
   "source": [
    "path"
   ]
  },
  {
   "cell_type": "markdown",
   "id": "af083f3c",
   "metadata": {},
   "source": [
    "## 03 Import data"
   ]
  },
  {
   "cell_type": "code",
   "execution_count": 5,
   "id": "c5514708",
   "metadata": {},
   "outputs": [],
   "source": [
    "df = pd.read_pickle(os.path.join(path, '02 Data', 'Prepared Data', 'orders_products_merged_v05.pkl'))"
   ]
  },
  {
   "cell_type": "code",
   "execution_count": 6,
   "id": "1c34871d",
   "metadata": {},
   "outputs": [],
   "source": [
    "df_02 = pd.read_pickle(os.path.join(path, '02 Data', 'Prepared Data', 'customers_clean_v02.pkl'))"
   ]
  },
  {
   "cell_type": "markdown",
   "id": "c57f21b4",
   "metadata": {},
   "source": [
    "## 04 Merge sample of orders_products_merged dataset with customers dataset"
   ]
  },
  {
   "cell_type": "markdown",
   "id": "921316a2",
   "metadata": {},
   "source": [
    "* Spoke with mentor and decided creating a sample was appropriate due to memory issues"
   ]
  },
  {
   "cell_type": "code",
   "execution_count": 7,
   "id": "bee624fb",
   "metadata": {},
   "outputs": [],
   "source": [
    "# create a list holding True/False values to the test np.random.rand() <= 0.7\n",
    "\n",
    "np.random.seed(4)\n",
    "dev = np.random.rand(len(df)) <= 0.7"
   ]
  },
  {
   "cell_type": "code",
   "execution_count": 8,
   "id": "38ae7d83",
   "metadata": {},
   "outputs": [],
   "source": [
    "# store 70% of the sample in the dataframe big\n",
    "\n",
    "big = df[dev]"
   ]
  },
  {
   "cell_type": "code",
   "execution_count": 9,
   "id": "3d72141b",
   "metadata": {},
   "outputs": [],
   "source": [
    "# store 30% of the sample in the dataframe small\n",
    "\n",
    "small = df[~dev]"
   ]
  },
  {
   "cell_type": "code",
   "execution_count": 10,
   "id": "8f7711d4",
   "metadata": {},
   "outputs": [
    {
     "data": {
      "text/plain": [
       "32404859"
      ]
     },
     "execution_count": 10,
     "metadata": {},
     "output_type": "execute_result"
    }
   ],
   "source": [
    "len(df)"
   ]
  },
  {
   "cell_type": "code",
   "execution_count": 11,
   "id": "f410613d",
   "metadata": {},
   "outputs": [
    {
     "data": {
      "text/plain": [
       "32404859"
      ]
     },
     "execution_count": 11,
     "metadata": {},
     "output_type": "execute_result"
    }
   ],
   "source": [
    "len(big) + len(small)"
   ]
  },
  {
   "cell_type": "code",
   "execution_count": 12,
   "id": "d701c296",
   "metadata": {},
   "outputs": [
    {
     "name": "stdout",
     "output_type": "stream",
     "text": [
      "<class 'pandas.core.frame.DataFrame'>\n",
      "Int64Index: 9721098 entries, 0 to 32404850\n",
      "Data columns (total 22 columns):\n",
      " #   Column                         Dtype  \n",
      "---  ------                         -----  \n",
      " 0   order_id                       int32  \n",
      " 1   user_id                        int32  \n",
      " 2   order_number                   int8   \n",
      " 3   orders_day_of_week             int8   \n",
      " 4   order_hour_of_day              int8   \n",
      " 5   days_since_prior_order         float16\n",
      " 6   product_id                     float16\n",
      " 7   add_to_cart_order              float16\n",
      " 8   reordered                      float16\n",
      " 9   product_name                   object \n",
      " 10  aisle_id                       int32  \n",
      " 11  department_id                  int32  \n",
      " 12  prices                         float16\n",
      " 13  price_range_loc                object \n",
      " 14  busiest_days                   object \n",
      " 15  busiest_period_of_day          object \n",
      " 16  max_order                      int8   \n",
      " 17  loyalty_flag                   object \n",
      " 18  avg_price                      float16\n",
      " 19  spender_flag                   object \n",
      " 20  median_days_since_prior_order  float16\n",
      " 21  frequency_flag                 object \n",
      "dtypes: float16(7), int32(4), int8(4), object(7)\n",
      "memory usage: 908.5+ MB\n"
     ]
    }
   ],
   "source": [
    "small.info()"
   ]
  },
  {
   "cell_type": "code",
   "execution_count": 13,
   "id": "05aaf253",
   "metadata": {},
   "outputs": [],
   "source": [
    "# Merge sample of orders_products_merged (small) with customers df\n",
    "\n",
    "df_ords_prods_merged = small.merge(df_02, on = ['user_id'], how = 'inner', indicator = True)"
   ]
  },
  {
   "cell_type": "code",
   "execution_count": 14,
   "id": "04eee0a0",
   "metadata": {},
   "outputs": [
    {
     "data": {
      "text/html": [
       "<div>\n",
       "<style scoped>\n",
       "    .dataframe tbody tr th:only-of-type {\n",
       "        vertical-align: middle;\n",
       "    }\n",
       "\n",
       "    .dataframe tbody tr th {\n",
       "        vertical-align: top;\n",
       "    }\n",
       "\n",
       "    .dataframe thead th {\n",
       "        text-align: right;\n",
       "    }\n",
       "</style>\n",
       "<table border=\"1\" class=\"dataframe\">\n",
       "  <thead>\n",
       "    <tr style=\"text-align: right;\">\n",
       "      <th></th>\n",
       "      <th>order_id</th>\n",
       "      <th>user_id</th>\n",
       "      <th>order_number</th>\n",
       "      <th>orders_day_of_week</th>\n",
       "      <th>order_hour_of_day</th>\n",
       "      <th>days_since_prior_order</th>\n",
       "      <th>product_id</th>\n",
       "      <th>add_to_cart_order</th>\n",
       "      <th>reordered</th>\n",
       "      <th>product_name</th>\n",
       "      <th>...</th>\n",
       "      <th>first_name</th>\n",
       "      <th>last_name</th>\n",
       "      <th>gender</th>\n",
       "      <th>state</th>\n",
       "      <th>age</th>\n",
       "      <th>date_joined</th>\n",
       "      <th>number_of_dependants</th>\n",
       "      <th>fam_status</th>\n",
       "      <th>income</th>\n",
       "      <th>_merge</th>\n",
       "    </tr>\n",
       "  </thead>\n",
       "  <tbody>\n",
       "    <tr>\n",
       "      <th>0</th>\n",
       "      <td>2539329</td>\n",
       "      <td>1</td>\n",
       "      <td>1</td>\n",
       "      <td>2</td>\n",
       "      <td>8</td>\n",
       "      <td>NaN</td>\n",
       "      <td>196.0</td>\n",
       "      <td>1.0</td>\n",
       "      <td>0.0</td>\n",
       "      <td>Soda</td>\n",
       "      <td>...</td>\n",
       "      <td>Linda</td>\n",
       "      <td>Nguyen</td>\n",
       "      <td>Female</td>\n",
       "      <td>Alabama</td>\n",
       "      <td>31</td>\n",
       "      <td>2/17/2019</td>\n",
       "      <td>3</td>\n",
       "      <td>married</td>\n",
       "      <td>40423</td>\n",
       "      <td>both</td>\n",
       "    </tr>\n",
       "    <tr>\n",
       "      <th>1</th>\n",
       "      <td>473747</td>\n",
       "      <td>1</td>\n",
       "      <td>3</td>\n",
       "      <td>3</td>\n",
       "      <td>12</td>\n",
       "      <td>21.0</td>\n",
       "      <td>196.0</td>\n",
       "      <td>1.0</td>\n",
       "      <td>1.0</td>\n",
       "      <td>Soda</td>\n",
       "      <td>...</td>\n",
       "      <td>Linda</td>\n",
       "      <td>Nguyen</td>\n",
       "      <td>Female</td>\n",
       "      <td>Alabama</td>\n",
       "      <td>31</td>\n",
       "      <td>2/17/2019</td>\n",
       "      <td>3</td>\n",
       "      <td>married</td>\n",
       "      <td>40423</td>\n",
       "      <td>both</td>\n",
       "    </tr>\n",
       "    <tr>\n",
       "      <th>2</th>\n",
       "      <td>2254736</td>\n",
       "      <td>1</td>\n",
       "      <td>4</td>\n",
       "      <td>4</td>\n",
       "      <td>7</td>\n",
       "      <td>29.0</td>\n",
       "      <td>196.0</td>\n",
       "      <td>1.0</td>\n",
       "      <td>1.0</td>\n",
       "      <td>Soda</td>\n",
       "      <td>...</td>\n",
       "      <td>Linda</td>\n",
       "      <td>Nguyen</td>\n",
       "      <td>Female</td>\n",
       "      <td>Alabama</td>\n",
       "      <td>31</td>\n",
       "      <td>2/17/2019</td>\n",
       "      <td>3</td>\n",
       "      <td>married</td>\n",
       "      <td>40423</td>\n",
       "      <td>both</td>\n",
       "    </tr>\n",
       "    <tr>\n",
       "      <th>3</th>\n",
       "      <td>550135</td>\n",
       "      <td>1</td>\n",
       "      <td>7</td>\n",
       "      <td>1</td>\n",
       "      <td>9</td>\n",
       "      <td>20.0</td>\n",
       "      <td>196.0</td>\n",
       "      <td>1.0</td>\n",
       "      <td>1.0</td>\n",
       "      <td>Soda</td>\n",
       "      <td>...</td>\n",
       "      <td>Linda</td>\n",
       "      <td>Nguyen</td>\n",
       "      <td>Female</td>\n",
       "      <td>Alabama</td>\n",
       "      <td>31</td>\n",
       "      <td>2/17/2019</td>\n",
       "      <td>3</td>\n",
       "      <td>married</td>\n",
       "      <td>40423</td>\n",
       "      <td>both</td>\n",
       "    </tr>\n",
       "    <tr>\n",
       "      <th>4</th>\n",
       "      <td>2539329</td>\n",
       "      <td>1</td>\n",
       "      <td>1</td>\n",
       "      <td>2</td>\n",
       "      <td>8</td>\n",
       "      <td>NaN</td>\n",
       "      <td>12424.0</td>\n",
       "      <td>3.0</td>\n",
       "      <td>0.0</td>\n",
       "      <td>Original Beef Jerky</td>\n",
       "      <td>...</td>\n",
       "      <td>Linda</td>\n",
       "      <td>Nguyen</td>\n",
       "      <td>Female</td>\n",
       "      <td>Alabama</td>\n",
       "      <td>31</td>\n",
       "      <td>2/17/2019</td>\n",
       "      <td>3</td>\n",
       "      <td>married</td>\n",
       "      <td>40423</td>\n",
       "      <td>both</td>\n",
       "    </tr>\n",
       "  </tbody>\n",
       "</table>\n",
       "<p>5 rows × 32 columns</p>\n",
       "</div>"
      ],
      "text/plain": [
       "   order_id  user_id  order_number  orders_day_of_week  order_hour_of_day  \\\n",
       "0   2539329        1             1                   2                  8   \n",
       "1    473747        1             3                   3                 12   \n",
       "2   2254736        1             4                   4                  7   \n",
       "3    550135        1             7                   1                  9   \n",
       "4   2539329        1             1                   2                  8   \n",
       "\n",
       "   days_since_prior_order  product_id  add_to_cart_order  reordered  \\\n",
       "0                     NaN       196.0                1.0        0.0   \n",
       "1                    21.0       196.0                1.0        1.0   \n",
       "2                    29.0       196.0                1.0        1.0   \n",
       "3                    20.0       196.0                1.0        1.0   \n",
       "4                     NaN     12424.0                3.0        0.0   \n",
       "\n",
       "          product_name  ...  first_name  last_name  gender    state age  \\\n",
       "0                 Soda  ...       Linda     Nguyen  Female  Alabama  31   \n",
       "1                 Soda  ...       Linda     Nguyen  Female  Alabama  31   \n",
       "2                 Soda  ...       Linda     Nguyen  Female  Alabama  31   \n",
       "3                 Soda  ...       Linda     Nguyen  Female  Alabama  31   \n",
       "4  Original Beef Jerky  ...       Linda     Nguyen  Female  Alabama  31   \n",
       "\n",
       "  date_joined  number_of_dependants fam_status  income _merge  \n",
       "0   2/17/2019                     3    married   40423   both  \n",
       "1   2/17/2019                     3    married   40423   both  \n",
       "2   2/17/2019                     3    married   40423   both  \n",
       "3   2/17/2019                     3    married   40423   both  \n",
       "4   2/17/2019                     3    married   40423   both  \n",
       "\n",
       "[5 rows x 32 columns]"
      ]
     },
     "execution_count": 14,
     "metadata": {},
     "output_type": "execute_result"
    }
   ],
   "source": [
    "df_ords_prods_merged.head()"
   ]
  },
  {
   "cell_type": "code",
   "execution_count": 15,
   "id": "99adfb44",
   "metadata": {},
   "outputs": [
    {
     "data": {
      "text/plain": [
       "both          9721098\n",
       "left_only           0\n",
       "right_only          0\n",
       "Name: _merge, dtype: int64"
      ]
     },
     "execution_count": 15,
     "metadata": {},
     "output_type": "execute_result"
    }
   ],
   "source": [
    "df_ords_prods_merged['_merge'].value_counts()"
   ]
  },
  {
   "cell_type": "code",
   "execution_count": 16,
   "id": "85ca16ee",
   "metadata": {},
   "outputs": [],
   "source": [
    "# drop '_merge' from df_ords_prods_merged\n",
    "\n",
    "df_ords_prods_merged = df_ords_prods_merged.drop('_merge', axis=1)"
   ]
  },
  {
   "cell_type": "code",
   "execution_count": 17,
   "id": "6e34d0dd",
   "metadata": {},
   "outputs": [
    {
     "name": "stdout",
     "output_type": "stream",
     "text": [
      "<class 'pandas.core.frame.DataFrame'>\n",
      "Int64Index: 9721098 entries, 0 to 9721097\n",
      "Data columns (total 31 columns):\n",
      " #   Column                         Dtype  \n",
      "---  ------                         -----  \n",
      " 0   order_id                       int32  \n",
      " 1   user_id                        int32  \n",
      " 2   order_number                   int8   \n",
      " 3   orders_day_of_week             int8   \n",
      " 4   order_hour_of_day              int8   \n",
      " 5   days_since_prior_order         float16\n",
      " 6   product_id                     float16\n",
      " 7   add_to_cart_order              float16\n",
      " 8   reordered                      float16\n",
      " 9   product_name                   object \n",
      " 10  aisle_id                       int32  \n",
      " 11  department_id                  int32  \n",
      " 12  prices                         float16\n",
      " 13  price_range_loc                object \n",
      " 14  busiest_days                   object \n",
      " 15  busiest_period_of_day          object \n",
      " 16  max_order                      int8   \n",
      " 17  loyalty_flag                   object \n",
      " 18  avg_price                      float16\n",
      " 19  spender_flag                   object \n",
      " 20  median_days_since_prior_order  float16\n",
      " 21  frequency_flag                 object \n",
      " 22  first_name                     object \n",
      " 23  last_name                      object \n",
      " 24  gender                         object \n",
      " 25  state                          object \n",
      " 26  age                            int8   \n",
      " 27  date_joined                    object \n",
      " 28  number_of_dependants           int8   \n",
      " 29  fam_status                     object \n",
      " 30  income                         int32  \n",
      "dtypes: float16(7), int32(5), int8(6), object(13)\n",
      "memory usage: 1.4+ GB\n"
     ]
    }
   ],
   "source": [
    "df_ords_prods_merged.info()"
   ]
  },
  {
   "cell_type": "code",
   "execution_count": 18,
   "id": "83217a75",
   "metadata": {},
   "outputs": [],
   "source": [
    "##### Export as pickle file\n",
    "\n",
    "df_ords_prods_merged.to_pickle(os.path.join(path, '02 Data','Prepared Data', 'orders_products_all.pkl'))"
   ]
  },
  {
   "cell_type": "code",
   "execution_count": 19,
   "id": "cf441abb",
   "metadata": {},
   "outputs": [],
   "source": [
    "##### Export sample of orders_products_merged (small) as pickle file\n",
    "\n",
    "small.to_pickle(os.path.join(path, '02 Data','Prepared Data', 'sample_orders_products_merged.pkl'))"
   ]
  },
  {
   "cell_type": "code",
   "execution_count": null,
   "id": "0db972fa",
   "metadata": {},
   "outputs": [],
   "source": []
  }
 ],
 "metadata": {
  "kernelspec": {
   "display_name": "Python 3 (ipykernel)",
   "language": "python",
   "name": "python3"
  },
  "language_info": {
   "codemirror_mode": {
    "name": "ipython",
    "version": 3
   },
   "file_extension": ".py",
   "mimetype": "text/x-python",
   "name": "python",
   "nbconvert_exporter": "python",
   "pygments_lexer": "ipython3",
   "version": "3.9.13"
  },
  "toc": {
   "base_numbering": 1,
   "nav_menu": {},
   "number_sections": false,
   "sideBar": true,
   "skip_h1_title": false,
   "title_cell": "Table of Contents",
   "title_sidebar": "Contents",
   "toc_cell": true,
   "toc_position": {
    "height": "calc(100% - 180px)",
    "left": "10px",
    "top": "150px",
    "width": "384px"
   },
   "toc_section_display": true,
   "toc_window_display": true
  }
 },
 "nbformat": 4,
 "nbformat_minor": 5
}
